{
 "cells": [
  {
   "cell_type": "markdown",
   "metadata": {},
   "source": [
    "# **Introduction**\n",
    "\n",
    "#### The goal of this project was to train an image classification model on a dataset of mountain, forest, and building images. Convolutional neural networks (CNNs) were chosen as they excel at image recognition tasks.\n",
    "\n",
    "#### The model architecture consisted of 2 convolution layers with max pooling, followed by fully connected layers. Batch normalization and dropout regularization were also used. The model was trained for 10 epochs using the Adam optimizer and cross entropy loss."
   ]
  },
  {
   "cell_type": "markdown",
   "metadata": {},
   "source": [
    "# **Data**\n",
    "\n",
    "#### The dataset contained images of 3 classes - mountain, forest, and buildings. After visual inspection, the classes were reasonably balanced.\n",
    "\n",
    "#### Samples:\n",
    "![Image Samples](samples.png)\n",
    "\n",
    "#### The training set had around 1600 images per class after undersampling. Test and validation sets had 320 and 80 images per class respectively.\n",
    "\n",
    "#### Data transforms included random crops, horizontal flips, normalization using mean and standard deviation of the training set."
   ]
  },
  {
   "cell_type": "markdown",
   "metadata": {},
   "source": [
    "# **Training**\n",
    "\n",
    "#### The model was trained for 10 epochs with a batch size of 64. The initial learning rate was 0.001 which decayed by 0.5 each epoch.\n",
    "\n",
    "#### The training loss decreased from around 1.5 to 0.4 over the epochs. Test accuracy reached around 94% while validation accuracy reached 92%.\n",
    "\n",
    "#### Loss:\n",
    "![Loss Curve](loss.png)"
   ]
  },
  {
   "cell_type": "markdown",
   "metadata": {},
   "source": [
    "# **Results**\n",
    "\n",
    "#### The final test accuracy reached 94% and validation accuracy reached 92% which suggests marginal overfitting.\n",
    "\n",
    "#### Top misclassifications were between mountains/buildings and forests/buildings indicating more varied data could help.\n",
    "\n",
    "#### Confusion Matrix:\n",
    "![Conf_mat](conf_matrix.png)"
   ]
  },
  {
   "cell_type": "markdown",
   "metadata": {},
   "source": [
    "# **Conclusion**\n",
    "\n",
    "#### The CNN model achieved good accuracy at classifying between the 3 image classes. More training data and model tweaking could potentially improve results further. Overall, the project successfully demonstrated applying CNNs for image classification."
   ]
  },
  {
   "cell_type": "markdown",
   "metadata": {},
   "source": [
    "# **Future Work**\n",
    "\n",
    "#### Some ways to improve the model in the future:\n",
    "##### - Use more training data for underrepresented classes\n",
    "\n",
    "##### - Tune hyperparameters like learning rate, epochs\n",
    "\n",
    "##### - Use more aggressive data augmentation\n",
    "\n",
    "##### - Implement early stopping to prevent overfitting"
   ]
  }
 ],
 "metadata": {
  "language_info": {
   "name": "python"
  },
  "orig_nbformat": 4
 },
 "nbformat": 4,
 "nbformat_minor": 2
}
